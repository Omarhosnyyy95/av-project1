{
  "cells": [
    {
      "cell_type": "markdown",
      "metadata": {
        "id": "rmNp-8J0Lbxg"
      },
      "source": [
        "# **2D Object Detection Project on a Video Clip**\n",
        "\n",
        "## **Project Overview**\n",
        "Object detection plays a crucial role in autonomous driving by enabling vehicles to perceive and interpret their surroundings with high accuracy. In this project, we develop a deep learning model using YOLOv8 to detect and classify cyclists, pedestrians, and vehicles in urban environments. The model will be trained and fine-tuned on the COCO (Common Objects in Context) dataset, which contains diverse real-world images with annotated objects commonly found in urban settings, such as cars, bicycles, and pedestrians.\n"
      ]
    },
    {
      "cell_type": "markdown",
      "metadata": {
        "id": "YCrfl5RiM64C"
      },
      "source": [
        "## **Dataset**\n",
        "In this project, we employed the COCO (Common Objects in Context) dataset, a prominent benchmark in computer vision for tasks like object detection, segmentation, and recognition. COCO offers a diverse array of images annotated with 80 common object categories, including pedestrians, cyclists, and vehicles, which are crucial for our urban detection application. The dataset comprises thousands of high-quality, real-world images taken in various settings, making it perfect for training deep learning models to recognize objects in dynamic, cluttered environments.\n",
        "\n",
        "COCO's extensive annotations include bounding boxes, instance segmentation masks, and keypoints, enabling precise detection and classification. Its real-world variety ensures that our model generalizes well across different lighting conditions, occlusions, and urban scenarios. For training, we utilize the COCO dataset's structured format, converting annotations into a format compatible with YOLOv8. Furthermore, data preprocessing techniques such as resizing, normalization, and augmentation are applied to boost model performance.\n",
        "\n",
        "\n"
      ]
    },
    {
      "cell_type": "markdown",
      "metadata": {
        "id": "xDfV77lNS_gZ"
      },
      "source": [
        "## **Setup**  \n",
        "\n",
        "To prepare the environment for this project, we install and import the necessary libraries required for **YOLOv8-based object detection, data processing, and visualization**. The setup includes **Ultralytics' YOLO library**, which provides a streamlined interface for training and inference, along with essential libraries like **Torch, OpenCV, NumPy, Matplotlib, and PIL** for handling image processing, visualization, and performance evaluation.  \n",
        "\n",
        "The **COCO dataset tools (`pycocotools`)** are included to work with dataset annotations efficiently, enabling the extraction of labeled objects such as **pedestrians, cyclists, and vehicles**. Additionally, **Torchvision transforms** help preprocess images before feeding them into the model. The setup also incorporates utilities for handling file downloads and extractions, ensuring seamless access to the dataset and model weights.  \n",
        "\n"
      ]
    },
    {
      "cell_type": "code",
      "execution_count": 1,
      "metadata": {
        "colab": {
          "base_uri": "https://localhost:8080/"
        },
        "id": "hNCBHav0QCKk",
        "outputId": "a079e774-cc01-4a84-f95f-712d04ce0d1a"
      },
      "outputs": [
        {
          "output_type": "stream",
          "name": "stdout",
          "text": [
            "Collecting ultralytics\n",
            "  Downloading ultralytics-8.3.91-py3-none-any.whl.metadata (35 kB)\n",
            "Requirement already satisfied: numpy<=2.1.1,>=1.23.0 in /usr/local/lib/python3.11/dist-packages (from ultralytics) (1.26.4)\n",
            "Requirement already satisfied: matplotlib>=3.3.0 in /usr/local/lib/python3.11/dist-packages (from ultralytics) (3.10.0)\n",
            "Requirement already satisfied: opencv-python>=4.6.0 in /usr/local/lib/python3.11/dist-packages (from ultralytics) (4.11.0.86)\n",
            "Requirement already satisfied: pillow>=7.1.2 in /usr/local/lib/python3.11/dist-packages (from ultralytics) (11.1.0)\n",
            "Requirement already satisfied: pyyaml>=5.3.1 in /usr/local/lib/python3.11/dist-packages (from ultralytics) (6.0.2)\n",
            "Requirement already satisfied: requests>=2.23.0 in /usr/local/lib/python3.11/dist-packages (from ultralytics) (2.32.3)\n",
            "Requirement already satisfied: scipy>=1.4.1 in /usr/local/lib/python3.11/dist-packages (from ultralytics) (1.14.1)\n",
            "Requirement already satisfied: torch>=1.8.0 in /usr/local/lib/python3.11/dist-packages (from ultralytics) (2.6.0+cu124)\n",
            "Requirement already satisfied: torchvision>=0.9.0 in /usr/local/lib/python3.11/dist-packages (from ultralytics) (0.21.0+cu124)\n",
            "Requirement already satisfied: tqdm>=4.64.0 in /usr/local/lib/python3.11/dist-packages (from ultralytics) (4.67.1)\n",
            "Requirement already satisfied: psutil in /usr/local/lib/python3.11/dist-packages (from ultralytics) (5.9.5)\n",
            "Requirement already satisfied: py-cpuinfo in /usr/local/lib/python3.11/dist-packages (from ultralytics) (9.0.0)\n",
            "Requirement already satisfied: pandas>=1.1.4 in /usr/local/lib/python3.11/dist-packages (from ultralytics) (2.2.2)\n",
            "Requirement already satisfied: seaborn>=0.11.0 in /usr/local/lib/python3.11/dist-packages (from ultralytics) (0.13.2)\n",
            "Collecting ultralytics-thop>=2.0.0 (from ultralytics)\n",
            "  Downloading ultralytics_thop-2.0.14-py3-none-any.whl.metadata (9.4 kB)\n",
            "Requirement already satisfied: contourpy>=1.0.1 in /usr/local/lib/python3.11/dist-packages (from matplotlib>=3.3.0->ultralytics) (1.3.1)\n",
            "Requirement already satisfied: cycler>=0.10 in /usr/local/lib/python3.11/dist-packages (from matplotlib>=3.3.0->ultralytics) (0.12.1)\n",
            "Requirement already satisfied: fonttools>=4.22.0 in /usr/local/lib/python3.11/dist-packages (from matplotlib>=3.3.0->ultralytics) (4.56.0)\n",
            "Requirement already satisfied: kiwisolver>=1.3.1 in /usr/local/lib/python3.11/dist-packages (from matplotlib>=3.3.0->ultralytics) (1.4.8)\n",
            "Requirement already satisfied: packaging>=20.0 in /usr/local/lib/python3.11/dist-packages (from matplotlib>=3.3.0->ultralytics) (24.2)\n",
            "Requirement already satisfied: pyparsing>=2.3.1 in /usr/local/lib/python3.11/dist-packages (from matplotlib>=3.3.0->ultralytics) (3.2.1)\n",
            "Requirement already satisfied: python-dateutil>=2.7 in /usr/local/lib/python3.11/dist-packages (from matplotlib>=3.3.0->ultralytics) (2.8.2)\n",
            "Requirement already satisfied: pytz>=2020.1 in /usr/local/lib/python3.11/dist-packages (from pandas>=1.1.4->ultralytics) (2025.1)\n",
            "Requirement already satisfied: tzdata>=2022.7 in /usr/local/lib/python3.11/dist-packages (from pandas>=1.1.4->ultralytics) (2025.1)\n",
            "Requirement already satisfied: charset-normalizer<4,>=2 in /usr/local/lib/python3.11/dist-packages (from requests>=2.23.0->ultralytics) (3.4.1)\n",
            "Requirement already satisfied: idna<4,>=2.5 in /usr/local/lib/python3.11/dist-packages (from requests>=2.23.0->ultralytics) (3.10)\n",
            "Requirement already satisfied: urllib3<3,>=1.21.1 in /usr/local/lib/python3.11/dist-packages (from requests>=2.23.0->ultralytics) (2.3.0)\n",
            "Requirement already satisfied: certifi>=2017.4.17 in /usr/local/lib/python3.11/dist-packages (from requests>=2.23.0->ultralytics) (2025.1.31)\n",
            "Requirement already satisfied: filelock in /usr/local/lib/python3.11/dist-packages (from torch>=1.8.0->ultralytics) (3.17.0)\n",
            "Requirement already satisfied: typing-extensions>=4.10.0 in /usr/local/lib/python3.11/dist-packages (from torch>=1.8.0->ultralytics) (4.12.2)\n",
            "Requirement already satisfied: networkx in /usr/local/lib/python3.11/dist-packages (from torch>=1.8.0->ultralytics) (3.4.2)\n",
            "Requirement already satisfied: jinja2 in /usr/local/lib/python3.11/dist-packages (from torch>=1.8.0->ultralytics) (3.1.6)\n",
            "Requirement already satisfied: fsspec in /usr/local/lib/python3.11/dist-packages (from torch>=1.8.0->ultralytics) (2024.10.0)\n",
            "Collecting nvidia-cuda-nvrtc-cu12==12.4.127 (from torch>=1.8.0->ultralytics)\n",
            "  Downloading nvidia_cuda_nvrtc_cu12-12.4.127-py3-none-manylinux2014_x86_64.whl.metadata (1.5 kB)\n",
            "Collecting nvidia-cuda-runtime-cu12==12.4.127 (from torch>=1.8.0->ultralytics)\n",
            "  Downloading nvidia_cuda_runtime_cu12-12.4.127-py3-none-manylinux2014_x86_64.whl.metadata (1.5 kB)\n",
            "Collecting nvidia-cuda-cupti-cu12==12.4.127 (from torch>=1.8.0->ultralytics)\n",
            "  Downloading nvidia_cuda_cupti_cu12-12.4.127-py3-none-manylinux2014_x86_64.whl.metadata (1.6 kB)\n",
            "Collecting nvidia-cudnn-cu12==9.1.0.70 (from torch>=1.8.0->ultralytics)\n",
            "  Downloading nvidia_cudnn_cu12-9.1.0.70-py3-none-manylinux2014_x86_64.whl.metadata (1.6 kB)\n",
            "Collecting nvidia-cublas-cu12==12.4.5.8 (from torch>=1.8.0->ultralytics)\n",
            "  Downloading nvidia_cublas_cu12-12.4.5.8-py3-none-manylinux2014_x86_64.whl.metadata (1.5 kB)\n",
            "Collecting nvidia-cufft-cu12==11.2.1.3 (from torch>=1.8.0->ultralytics)\n",
            "  Downloading nvidia_cufft_cu12-11.2.1.3-py3-none-manylinux2014_x86_64.whl.metadata (1.5 kB)\n",
            "Collecting nvidia-curand-cu12==10.3.5.147 (from torch>=1.8.0->ultralytics)\n",
            "  Downloading nvidia_curand_cu12-10.3.5.147-py3-none-manylinux2014_x86_64.whl.metadata (1.5 kB)\n",
            "Collecting nvidia-cusolver-cu12==11.6.1.9 (from torch>=1.8.0->ultralytics)\n",
            "  Downloading nvidia_cusolver_cu12-11.6.1.9-py3-none-manylinux2014_x86_64.whl.metadata (1.6 kB)\n",
            "Collecting nvidia-cusparse-cu12==12.3.1.170 (from torch>=1.8.0->ultralytics)\n",
            "  Downloading nvidia_cusparse_cu12-12.3.1.170-py3-none-manylinux2014_x86_64.whl.metadata (1.6 kB)\n",
            "Requirement already satisfied: nvidia-cusparselt-cu12==0.6.2 in /usr/local/lib/python3.11/dist-packages (from torch>=1.8.0->ultralytics) (0.6.2)\n",
            "Requirement already satisfied: nvidia-nccl-cu12==2.21.5 in /usr/local/lib/python3.11/dist-packages (from torch>=1.8.0->ultralytics) (2.21.5)\n",
            "Requirement already satisfied: nvidia-nvtx-cu12==12.4.127 in /usr/local/lib/python3.11/dist-packages (from torch>=1.8.0->ultralytics) (12.4.127)\n",
            "Collecting nvidia-nvjitlink-cu12==12.4.127 (from torch>=1.8.0->ultralytics)\n",
            "  Downloading nvidia_nvjitlink_cu12-12.4.127-py3-none-manylinux2014_x86_64.whl.metadata (1.5 kB)\n",
            "Requirement already satisfied: triton==3.2.0 in /usr/local/lib/python3.11/dist-packages (from torch>=1.8.0->ultralytics) (3.2.0)\n",
            "Requirement already satisfied: sympy==1.13.1 in /usr/local/lib/python3.11/dist-packages (from torch>=1.8.0->ultralytics) (1.13.1)\n",
            "Requirement already satisfied: mpmath<1.4,>=1.1.0 in /usr/local/lib/python3.11/dist-packages (from sympy==1.13.1->torch>=1.8.0->ultralytics) (1.3.0)\n",
            "Requirement already satisfied: six>=1.5 in /usr/local/lib/python3.11/dist-packages (from python-dateutil>=2.7->matplotlib>=3.3.0->ultralytics) (1.17.0)\n",
            "Requirement already satisfied: MarkupSafe>=2.0 in /usr/local/lib/python3.11/dist-packages (from jinja2->torch>=1.8.0->ultralytics) (3.0.2)\n",
            "Downloading ultralytics-8.3.91-py3-none-any.whl (949 kB)\n",
            "\u001b[2K   \u001b[90m━━━━━━━━━━━━━━━━━━━━━━━━━━━━━━━━━━━━━━━━\u001b[0m \u001b[32m949.2/949.2 kB\u001b[0m \u001b[31m8.2 MB/s\u001b[0m eta \u001b[36m0:00:00\u001b[0m\n",
            "\u001b[?25hDownloading nvidia_cublas_cu12-12.4.5.8-py3-none-manylinux2014_x86_64.whl (363.4 MB)\n",
            "\u001b[2K   \u001b[90m━━━━━━━━━━━━━━━━━━━━━━━━━━━━━━━━━━━━━━━━\u001b[0m \u001b[32m363.4/363.4 MB\u001b[0m \u001b[31m2.6 MB/s\u001b[0m eta \u001b[36m0:00:00\u001b[0m\n",
            "\u001b[?25hDownloading nvidia_cuda_cupti_cu12-12.4.127-py3-none-manylinux2014_x86_64.whl (13.8 MB)\n",
            "\u001b[2K   \u001b[90m━━━━━━━━━━━━━━━━━━━━━━━━━━━━━━━━━━━━━━━━\u001b[0m \u001b[32m13.8/13.8 MB\u001b[0m \u001b[31m25.8 MB/s\u001b[0m eta \u001b[36m0:00:00\u001b[0m\n",
            "\u001b[?25hDownloading nvidia_cuda_nvrtc_cu12-12.4.127-py3-none-manylinux2014_x86_64.whl (24.6 MB)\n",
            "\u001b[2K   \u001b[90m━━━━━━━━━━━━━━━━━━━━━━━━━━━━━━━━━━━━━━━━\u001b[0m \u001b[32m24.6/24.6 MB\u001b[0m \u001b[31m26.7 MB/s\u001b[0m eta \u001b[36m0:00:00\u001b[0m\n",
            "\u001b[?25hDownloading nvidia_cuda_runtime_cu12-12.4.127-py3-none-manylinux2014_x86_64.whl (883 kB)\n",
            "\u001b[2K   \u001b[90m━━━━━━━━━━━━━━━━━━━━━━━━━━━━━━━━━━━━━━━━\u001b[0m \u001b[32m883.7/883.7 kB\u001b[0m \u001b[31m28.4 MB/s\u001b[0m eta \u001b[36m0:00:00\u001b[0m\n",
            "\u001b[?25hDownloading nvidia_cudnn_cu12-9.1.0.70-py3-none-manylinux2014_x86_64.whl (664.8 MB)\n",
            "\u001b[2K   \u001b[90m━━━━━━━━━━━━━━━━━━━━━━━━━━━━━━━━━━━━━━━━\u001b[0m \u001b[32m664.8/664.8 MB\u001b[0m \u001b[31m2.7 MB/s\u001b[0m eta \u001b[36m0:00:00\u001b[0m\n",
            "\u001b[?25hDownloading nvidia_cufft_cu12-11.2.1.3-py3-none-manylinux2014_x86_64.whl (211.5 MB)\n",
            "\u001b[2K   \u001b[90m━━━━━━━━━━━━━━━━━━━━━━━━━━━━━━━━━━━━━━━━\u001b[0m \u001b[32m211.5/211.5 MB\u001b[0m \u001b[31m5.6 MB/s\u001b[0m eta \u001b[36m0:00:00\u001b[0m\n",
            "\u001b[?25hDownloading nvidia_curand_cu12-10.3.5.147-py3-none-manylinux2014_x86_64.whl (56.3 MB)\n",
            "\u001b[2K   \u001b[90m━━━━━━━━━━━━━━━━━━━━━━━━━━━━━━━━━━━━━━━━\u001b[0m \u001b[32m56.3/56.3 MB\u001b[0m \u001b[31m12.1 MB/s\u001b[0m eta \u001b[36m0:00:00\u001b[0m\n",
            "\u001b[?25hDownloading nvidia_cusolver_cu12-11.6.1.9-py3-none-manylinux2014_x86_64.whl (127.9 MB)\n",
            "\u001b[2K   \u001b[90m━━━━━━━━━━━━━━━━━━━━━━━━━━━━━━━━━━━━━━━━\u001b[0m \u001b[32m127.9/127.9 MB\u001b[0m \u001b[31m7.5 MB/s\u001b[0m eta \u001b[36m0:00:00\u001b[0m\n",
            "\u001b[?25hDownloading nvidia_cusparse_cu12-12.3.1.170-py3-none-manylinux2014_x86_64.whl (207.5 MB)\n",
            "\u001b[2K   \u001b[90m━━━━━━━━━━━━━━━━━━━━━━━━━━━━━━━━━━━━━━━━\u001b[0m \u001b[32m207.5/207.5 MB\u001b[0m \u001b[31m5.7 MB/s\u001b[0m eta \u001b[36m0:00:00\u001b[0m\n",
            "\u001b[?25hDownloading nvidia_nvjitlink_cu12-12.4.127-py3-none-manylinux2014_x86_64.whl (21.1 MB)\n",
            "\u001b[2K   \u001b[90m━━━━━━━━━━━━━━━━━━━━━━━━━━━━━━━━━━━━━━━━\u001b[0m \u001b[32m21.1/21.1 MB\u001b[0m \u001b[31m42.0 MB/s\u001b[0m eta \u001b[36m0:00:00\u001b[0m\n",
            "\u001b[?25hDownloading ultralytics_thop-2.0.14-py3-none-any.whl (26 kB)\n",
            "Installing collected packages: nvidia-nvjitlink-cu12, nvidia-curand-cu12, nvidia-cufft-cu12, nvidia-cuda-runtime-cu12, nvidia-cuda-nvrtc-cu12, nvidia-cuda-cupti-cu12, nvidia-cublas-cu12, nvidia-cusparse-cu12, nvidia-cudnn-cu12, nvidia-cusolver-cu12, ultralytics-thop, ultralytics\n",
            "  Attempting uninstall: nvidia-nvjitlink-cu12\n",
            "    Found existing installation: nvidia-nvjitlink-cu12 12.5.82\n",
            "    Uninstalling nvidia-nvjitlink-cu12-12.5.82:\n",
            "      Successfully uninstalled nvidia-nvjitlink-cu12-12.5.82\n",
            "  Attempting uninstall: nvidia-curand-cu12\n",
            "    Found existing installation: nvidia-curand-cu12 10.3.6.82\n",
            "    Uninstalling nvidia-curand-cu12-10.3.6.82:\n",
            "      Successfully uninstalled nvidia-curand-cu12-10.3.6.82\n",
            "  Attempting uninstall: nvidia-cufft-cu12\n",
            "    Found existing installation: nvidia-cufft-cu12 11.2.3.61\n",
            "    Uninstalling nvidia-cufft-cu12-11.2.3.61:\n",
            "      Successfully uninstalled nvidia-cufft-cu12-11.2.3.61\n",
            "  Attempting uninstall: nvidia-cuda-runtime-cu12\n",
            "    Found existing installation: nvidia-cuda-runtime-cu12 12.5.82\n",
            "    Uninstalling nvidia-cuda-runtime-cu12-12.5.82:\n",
            "      Successfully uninstalled nvidia-cuda-runtime-cu12-12.5.82\n",
            "  Attempting uninstall: nvidia-cuda-nvrtc-cu12\n",
            "    Found existing installation: nvidia-cuda-nvrtc-cu12 12.5.82\n",
            "    Uninstalling nvidia-cuda-nvrtc-cu12-12.5.82:\n",
            "      Successfully uninstalled nvidia-cuda-nvrtc-cu12-12.5.82\n",
            "  Attempting uninstall: nvidia-cuda-cupti-cu12\n",
            "    Found existing installation: nvidia-cuda-cupti-cu12 12.5.82\n",
            "    Uninstalling nvidia-cuda-cupti-cu12-12.5.82:\n",
            "      Successfully uninstalled nvidia-cuda-cupti-cu12-12.5.82\n",
            "  Attempting uninstall: nvidia-cublas-cu12\n",
            "    Found existing installation: nvidia-cublas-cu12 12.5.3.2\n",
            "    Uninstalling nvidia-cublas-cu12-12.5.3.2:\n",
            "      Successfully uninstalled nvidia-cublas-cu12-12.5.3.2\n",
            "  Attempting uninstall: nvidia-cusparse-cu12\n",
            "    Found existing installation: nvidia-cusparse-cu12 12.5.1.3\n",
            "    Uninstalling nvidia-cusparse-cu12-12.5.1.3:\n",
            "      Successfully uninstalled nvidia-cusparse-cu12-12.5.1.3\n",
            "  Attempting uninstall: nvidia-cudnn-cu12\n",
            "    Found existing installation: nvidia-cudnn-cu12 9.3.0.75\n",
            "    Uninstalling nvidia-cudnn-cu12-9.3.0.75:\n",
            "      Successfully uninstalled nvidia-cudnn-cu12-9.3.0.75\n",
            "  Attempting uninstall: nvidia-cusolver-cu12\n",
            "    Found existing installation: nvidia-cusolver-cu12 11.6.3.83\n",
            "    Uninstalling nvidia-cusolver-cu12-11.6.3.83:\n",
            "      Successfully uninstalled nvidia-cusolver-cu12-11.6.3.83\n",
            "Successfully installed nvidia-cublas-cu12-12.4.5.8 nvidia-cuda-cupti-cu12-12.4.127 nvidia-cuda-nvrtc-cu12-12.4.127 nvidia-cuda-runtime-cu12-12.4.127 nvidia-cudnn-cu12-9.1.0.70 nvidia-cufft-cu12-11.2.1.3 nvidia-curand-cu12-10.3.5.147 nvidia-cusolver-cu12-11.6.1.9 nvidia-cusparse-cu12-12.3.1.170 nvidia-nvjitlink-cu12-12.4.127 ultralytics-8.3.91 ultralytics-thop-2.0.14\n",
            "Requirement already satisfied: imageio[ffmpeg] in /usr/local/lib/python3.11/dist-packages (2.37.0)\n",
            "Requirement already satisfied: numpy in /usr/local/lib/python3.11/dist-packages (from imageio[ffmpeg]) (1.26.4)\n",
            "Requirement already satisfied: pillow>=8.3.2 in /usr/local/lib/python3.11/dist-packages (from imageio[ffmpeg]) (11.1.0)\n",
            "Requirement already satisfied: imageio-ffmpeg in /usr/local/lib/python3.11/dist-packages (from imageio[ffmpeg]) (0.6.0)\n",
            "Requirement already satisfied: psutil in /usr/local/lib/python3.11/dist-packages (from imageio[ffmpeg]) (5.9.5)\n",
            "Creating new Ultralytics Settings v0.0.6 file ✅ \n",
            "View Ultralytics Settings with 'yolo settings' or at '/root/.config/Ultralytics/settings.json'\n",
            "Update Settings with 'yolo settings key=value', i.e. 'yolo settings runs_dir=path/to/dir'. For help see https://docs.ultralytics.com/quickstart/#ultralytics-settings.\n"
          ]
        }
      ],
      "source": [
        "# Install necessary libraries\n",
        "!pip install ultralytics\n",
        "!pip install imageio[ffmpeg]\n",
        "\n",
        "# Import necessary libraries\n",
        "import torch\n",
        "from ultralytics import YOLO\n",
        "import matplotlib.pyplot as plt\n",
        "import cv2\n",
        "import numpy as np\n",
        "from pycocotools.coco import COCO\n",
        "from torchvision import transforms\n",
        "from PIL import Image\n",
        "import requests\n",
        "import zipfile\n",
        "import os\n",
        "import time\n",
        "import imageio"
      ]
    },
    {
      "cell_type": "code",
      "execution_count": 2,
      "metadata": {
        "colab": {
          "base_uri": "https://localhost:8080/"
        },
        "id": "eaFUTXMuQHJD",
        "outputId": "d31cbfac-7b01-4bcb-8387-0c3e8482cce9"
      },
      "outputs": [
        {
          "output_type": "stream",
          "name": "stdout",
          "text": [
            "Using device: cuda\n"
          ]
        }
      ],
      "source": [
        "# Check if GPU is available\n",
        "device = 'cuda' if torch.cuda.is_available() else 'cpu'\n",
        "print(f'Using device: {device}')"
      ]
    },
    {
      "cell_type": "code",
      "execution_count": 3,
      "metadata": {
        "id": "Oa3djrcD6FNq"
      },
      "outputs": [],
      "source": [
        "# Verify dataset paths\n",
        "data_dir = './datasets/coco'\n",
        "if not os.path.exists(f'{data_dir}/images/train2017'):\n",
        "    os.makedirs(f'{data_dir}/images/train2017')\n",
        "if not os.path.exists(f'{data_dir}/images/val2017'):\n",
        "    os.makedirs(f'{data_dir}/images/val2017')\n",
        "if not os.path.exists(f'{data_dir}/images/test2017'):\n",
        "    os.makedirs(f'{data_dir}/images/test2017')\n",
        "if not os.path.exists(f'{data_dir}/labels/train2017'):\n",
        "    os.makedirs(f'{data_dir}/labels/train2017')\n",
        "if not os.path.exists(f'{data_dir}/labels/val2017'):\n",
        "    os.makedirs(f'{data_dir}/labels/val2017')\n",
        "if not os.path.exists(f'{data_dir}/labels/test2017'):\n",
        "    os.makedirs(f'{data_dir}/labels/test2017')\n"
      ]
    },
    {
      "cell_type": "code",
      "execution_count": 4,
      "metadata": {
        "colab": {
          "base_uri": "https://localhost:8080/"
        },
        "id": "UItwcRwD6H6W",
        "outputId": "a976ae79-3b65-486d-9265-708b2c4f373e"
      },
      "outputs": [
        {
          "output_type": "stream",
          "name": "stdout",
          "text": [
            "--2025-03-17 09:10:27--  http://images.cocodataset.org/annotations/annotations_trainval2017.zip\n",
            "Resolving images.cocodataset.org (images.cocodataset.org)... 52.216.217.113, 52.216.88.243, 52.216.54.73, ...\n",
            "Connecting to images.cocodataset.org (images.cocodataset.org)|52.216.217.113|:80... connected.\n",
            "HTTP request sent, awaiting response... 200 OK\n",
            "Length: 252907541 (241M) [application/zip]\n",
            "Saving to: ‘./datasets/coco/annotations_trainval2017.zip’\n",
            "\n",
            "annotations_trainva 100%[===================>] 241.19M  20.2MB/s    in 14s     \n",
            "\n",
            "2025-03-17 09:10:42 (17.0 MB/s) - ‘./datasets/coco/annotations_trainval2017.zip’ saved [252907541/252907541]\n",
            "\n",
            "--2025-03-17 09:10:51--  http://images.cocodataset.org/zips/train2017.zip\n",
            "Resolving images.cocodataset.org (images.cocodataset.org)... 52.217.106.12, 52.217.119.81, 52.216.205.179, ...\n",
            "Connecting to images.cocodataset.org (images.cocodataset.org)|52.217.106.12|:80... connected.\n",
            "HTTP request sent, awaiting response... 200 OK\n",
            "Length: 19336861798 (18G) [application/zip]\n",
            "Saving to: ‘./datasets/coco/images/train2017.zip’\n",
            "\n",
            "train2017.zip       100%[===================>]  18.01G  19.9MB/s    in 16m 43s \n",
            "\n",
            "2025-03-17 09:27:34 (18.4 MB/s) - ‘./datasets/coco/images/train2017.zip’ saved [19336861798/19336861798]\n",
            "\n",
            "--2025-03-17 09:31:17--  http://images.cocodataset.org/zips/val2017.zip\n",
            "Resolving images.cocodataset.org (images.cocodataset.org)... 3.5.21.189, 3.5.25.81, 54.231.228.249, ...\n",
            "Connecting to images.cocodataset.org (images.cocodataset.org)|3.5.21.189|:80... connected.\n",
            "HTTP request sent, awaiting response... 200 OK\n",
            "Length: 815585330 (778M) [application/zip]\n",
            "Saving to: ‘./datasets/coco/images/val2017.zip’\n",
            "\n",
            "val2017.zip         100%[===================>] 777.80M  21.5MB/s    in 39s     \n",
            "\n",
            "2025-03-17 09:31:57 (19.9 MB/s) - ‘./datasets/coco/images/val2017.zip’ saved [815585330/815585330]\n",
            "\n",
            "--2025-03-17 09:32:04--  http://images.cocodataset.org/zips/test2017.zip\n",
            "Resolving images.cocodataset.org (images.cocodataset.org)... 16.182.64.121, 16.182.70.105, 52.217.121.129, ...\n",
            "Connecting to images.cocodataset.org (images.cocodataset.org)|16.182.64.121|:80... connected.\n",
            "HTTP request sent, awaiting response... 200 OK\n",
            "Length: 6646970404 (6.2G) [application/zip]\n",
            "Saving to: ‘./datasets/coco/images/test2017.zip’\n",
            "\n",
            "test2017.zip        100%[===================>]   6.19G  17.9MB/s    in 6m 11s  \n",
            "\n",
            "2025-03-17 09:38:15 (17.1 MB/s) - ‘./datasets/coco/images/test2017.zip’ saved [6646970404/6646970404]\n",
            "\n"
          ]
        }
      ],
      "source": [
        "# Download and unzip dataset if not already present\n",
        "if not os.path.exists(f'{data_dir}/annotations'):\n",
        "    !wget http://images.cocodataset.org/annotations/annotations_trainval2017.zip -P {data_dir}\n",
        "    !unzip -q {data_dir}/annotations_trainval2017.zip -d {data_dir}\n",
        "\n",
        "if not os.path.exists(f'{data_dir}/images/train2017.zip'):\n",
        "    !wget http://images.cocodataset.org/zips/train2017.zip -P {data_dir}/images\n",
        "    !unzip -q {data_dir}/images/train2017.zip -d {data_dir}/images\n",
        "\n",
        "if not os.path.exists(f'{data_dir}/images/val2017.zip'):\n",
        "    !wget http://images.cocodataset.org/zips/val2017.zip -P {data_dir}/images\n",
        "    !unzip -q {data_dir}/images/val2017.zip -d {data_dir}/images\n",
        "\n",
        "if not os.path.exists(f'{data_dir}/images/test2017.zip'):\n",
        "    !wget http://images.cocodataset.org/zips/test2017.zip -P {data_dir}/images\n",
        "    !unzip -q {data_dir}/images/test2017.zip -d {data_dir}/images\n"
      ]
    },
    {
      "cell_type": "code",
      "execution_count": 5,
      "metadata": {
        "id": "JuvEtK7e6QTZ"
      },
      "outputs": [],
      "source": [
        "# Ensure coco.yaml is in the right folder\n",
        "coco_yaml_path = f'{data_dir}/coco.yaml'\n",
        "if not os.path.exists(coco_yaml_path):\n",
        "    with open(coco_yaml_path, 'w') as f:\n",
        "        f.write('''train: datasets/coco/images/train2017\n",
        "val: datasets/coco/images/val2017\n",
        "test: datasets/coco/images/test2017\n",
        "\n",
        "# Classes\n",
        "names:\n",
        "  0: person\n",
        "  1: bicycle\n",
        "  2: car\n",
        "  3: motorcycle\n",
        "  4: bus\n",
        "  5: truck''')"
      ]
    },
    {
      "cell_type": "markdown",
      "metadata": {
        "id": "gIA9ovM4R6Tp"
      },
      "source": [
        "## **YOLOv8 Model Selection**  \n",
        "\n",
        "We leverage YOLOv8, the latest iteration of the You Only Look Once (YOLO) series, which is widely regarded for its real-time object detection capabilities. YOLOv8 is a powerful deep learning model optimized for speed, accuracy, and versatility, making it ideal for applications like autonomous driving, traffic monitoring, and pedestrian detection.  \n",
        "\n",
        "Compared to its predecessors, YOLOv8 introduces several architectural improvements, including an anchor-free detection mechanism, an optimized CSPDarknet backbone, and better feature fusion strategies, allowing it to detect objects with greater precision, especially in crowded urban environments. The model is designed to efficiently process video frames while maintaining high inference speeds, making it well-suited for real-time object detection in dynamic scenes.  \n",
        "\n",
        "In this project, we utilize YOLOv8’s pre-trained weights on the COCO dataset and fine-tune it for improved recognition of pedestrians, cyclists, and vehicles. The model is capable of handling multiple objects simultaneously, with robust performance across various lighting and occlusion conditions.\n",
        "For this project, we utilize the YOLOv8x model, which is the largest and most powerful variant in the YOLOv8 series, to achieve high-accuracy object detection. The model is initialized with pre-trained weights from the `yolov8x.pt` checkpoint and deployed on the designated device (CPU or GPU) for efficient processing:  \n",
        "\n",
        "```python\n",
        "model = YOLO('yolov8x.pt').to(device)\n",
        "```  \n",
        "\n",
        "The YOLOv8x model excels in detection capabilities due to its larger backbone, increased number of parameters, and improved feature extraction, making it highly effective for identifying pedestrians, cyclists, and vehicles in complex urban scenes. Although it demands more computational resources compared to smaller YOLOv8 variants, its proficiency in accurately detecting small and occluded objects makes it ideal for real-world traffic monitoring, autonomous navigation, and safety applications**."
      ]
    },
    {
      "cell_type": "markdown",
      "metadata": {
        "id": "f6E5AiwuVpbk"
      },
      "source": [
        "## **Dataset Analysis**  \n",
        "\n",
        "The dataset analysis offers a comprehensive understanding of the distribution of images, object categories, and annotation statistics within the COCO dataset. This step is essential to ensure that our model is trained on a well-structured and representative dataset for object detection tasks.  \n",
        "\n",
        "First, we identify the categories of interest, specifically pedestrians, bicycles, cars, motorcycles, buses, and trucks, and extract their respective category IDs. This allows us to filter relevant objects and focus on analyzing their distribution within the dataset.  \n",
        "\n",
        "An important part of this analysis is the class distribution, which helps determine the prevalence of each object type in both the training and validation datasets. By counting the number of instances per category, we can identify potential class imbalances that might affect model performance. A bar chart visualization further illustrates the dataset’s distribution across different object categories, indicating whether additional data augmentation or re-weighting techniques might be necessary.  \n",
        "\n",
        "Moreover, we examine the image size distribution, ensuring that the dataset contains a diverse range of image resolutions. This is crucial for optimizing the model’s ability to detect objects at various scales. A histogram of image widths and heights provides insights into whether image resizing and normalization are needed for model training.  \n",
        "\n",
        "Finally, we calculate the total number of annotations, which provides a broader perspective on how many labeled instances exist within the dataset. This metric is vital for understanding the dataset’s complexity and ensuring that it contains sufficient labeled examples for each class.  \n",
        "\n",
        "Through this dataset analysis, we gain valuable insights that help in fine-tuning YOLOv8 for real-world urban object detection, ensuring a well-balanced, diverse, and high-quality training dataset."
      ]
    },
    {
      "cell_type": "code",
      "execution_count": 6,
      "metadata": {
        "id": "romfoyCZ5PiK"
      },
      "outputs": [],
      "source": [
        "## Dataset\n",
        "# Set paths to the dataset\n",
        "train_annotations_path = f'{data_dir}/annotations/instances_train2017.json'\n",
        "val_annotations_path = f'{data_dir}/annotations/instances_val2017.json'\n",
        "train_images_dir = f'{data_dir}/images/train2017'\n",
        "val_images_dir = f'{data_dir}/images/val2017'"
      ]
    },
    {
      "cell_type": "code",
      "execution_count": 7,
      "metadata": {
        "colab": {
          "base_uri": "https://localhost:8080/"
        },
        "id": "H75Mr77g5IRV",
        "outputId": "43b64a0c-53ad-4155-ee95-0f1ba7f4ecab"
      },
      "outputs": [
        {
          "output_type": "stream",
          "name": "stdout",
          "text": [
            "loading annotations into memory...\n",
            "Done (t=18.15s)\n",
            "creating index...\n",
            "index created!\n",
            "loading annotations into memory...\n",
            "Done (t=0.64s)\n",
            "creating index...\n",
            "index created!\n"
          ]
        }
      ],
      "source": [
        "# Initialize COCO API for instance annotations\n",
        "coco_train = COCO(train_annotations_path)\n",
        "coco_val = COCO(val_annotations_path)"
      ]
    },
    {
      "cell_type": "code",
      "execution_count": 8,
      "metadata": {
        "colab": {
          "base_uri": "https://localhost:8080/",
          "height": 804
        },
        "id": "yLvLFDE6q7A-",
        "outputId": "e2905a98-1222-47a9-8041-7124e24bef32"
      },
      "outputs": [
        {
          "output_type": "stream",
          "name": "stdout",
          "text": [
            "Category IDs: [1, 2, 3, 4, 6, 8]\n"
          ]
        },
        {
          "output_type": "display_data",
          "data": {
            "text/plain": [
              "<Figure size 1200x800 with 1 Axes>"
            ],
            "image/png": "[encoded data removed]"
          },
          "metadata": {}
        },
        {
          "output_type": "stream",
          "name": "stdout",
          "text": [
            "Total Instances: {1: 273469, 2: 7429, 3: 45799, 4: 9096, 6: 6354, 8: 10388}\n"
          ]
        }
      ],
      "source": [
        "# Define the categories of interest: pedestrian, vehicles, and cyclists\n",
        "categories_of_interest = ['person', 'bicycle', 'car', 'motorcycle', 'bus', 'truck']\n",
        "\n",
        "# Get category IDs for the categories of interest\n",
        "cat_ids = coco_train.getCatIds(catNms=categories_of_interest)\n",
        "print(f'Category IDs: {cat_ids}')\n",
        "\n",
        "# Function to count class distribution\n",
        "def count_class_distribution(coco, cat_ids):\n",
        "    class_counts = {cat_id: 0 for cat_id in cat_ids}\n",
        "    img_ids = coco.getImgIds()\n",
        "    for img_id in img_ids:\n",
        "        ann_ids = coco.getAnnIds(imgIds=img_id, catIds=cat_ids, iscrowd=None)\n",
        "        anns = coco.loadAnns(ann_ids)\n",
        "        for ann in anns:\n",
        "            class_counts[ann['category_id']] += 1\n",
        "    return class_counts\n",
        "\n",
        "# Count class distribution in training and validation sets\n",
        "train_class_counts = count_class_distribution(coco_train, cat_ids)\n",
        "val_class_counts = count_class_distribution(coco_val, cat_ids)\n",
        "\n",
        "# Combine class counts from training and validation sets\n",
        "total_class_counts = {cat_id: train_class_counts[cat_id] + val_class_counts[cat_id] for cat_id in cat_ids}\n",
        "\n",
        "# Get category names\n",
        "cat_names = coco_train.loadCats(cat_ids)\n",
        "cat_names_dict = {cat['id']: cat['name'] for cat in cat_names}\n",
        "\n",
        "# Plot class distribution\n",
        "plt.figure(figsize=(12, 8))\n",
        "plt.bar(total_class_counts.keys(), total_class_counts.values(), tick_label=[cat_names_dict[cat_id] for cat_id in total_class_counts.keys()])\n",
        "plt.xlabel('Class')\n",
        "plt.ylabel('Number of Instances')\n",
        "plt.title('Class Distribution for Pedestrians, Vehicles, and Cyclists in COCO Dataset')\n",
        "plt.xticks(rotation=45)\n",
        "plt.show()\n",
        "\n",
        "# Total Instances for Each Category of Interest\n",
        "def count_instances(coco, cat_ids):\n",
        "    total_instances = {cat_id: 0 for cat_id in cat_ids}\n",
        "    ann_ids = coco.getAnnIds(catIds=cat_ids)\n",
        "    anns = coco.loadAnns(ann_ids)\n",
        "    for ann in anns:\n",
        "        total_instances[ann['category_id']] += 1\n",
        "    return total_instances\n",
        "\n",
        "total_train_instances = count_instances(coco_train, cat_ids)\n",
        "total_val_instances = count_instances(coco_val, cat_ids)\n",
        "\n",
        "total_instances = {cat_id: total_train_instances[cat_id] + total_val_instances[cat_id] for cat_id in cat_ids}\n",
        "print(f\"Total Instances: {total_instances}\")"
      ]
    },
    {
      "cell_type": "code",
      "execution_count": 9,
      "metadata": {
        "colab": {
          "base_uri": "https://localhost:8080/",
          "height": 522
        },
        "id": "dAUGVWuBQknP",
        "outputId": "d2d5daf4-a711-4968-f0e7-96cc9a8bb9ec"
      },
      "outputs": [
        {
          "output_type": "stream",
          "name": "stdout",
          "text": [
            "Number of images: 118287\n"
          ]
        },
        {
          "output_type": "display_data",
          "data": {
            "text/plain": [
              "<Figure size 1000x500 with 1 Axes>"
            ],
            "image/png": "[encoded data removed]"
          },
          "metadata": {}
        },
        {
          "output_type": "stream",
          "name": "stdout",
          "text": [
            "Number of annotations: 338212\n"
          ]
        }
      ],
      "source": [
        "def analyze_dataset(coco):\n",
        "    img_ids = coco.getImgIds()\n",
        "    num_images = len(img_ids)\n",
        "    print(f'Number of images: {num_images}')\n",
        "\n",
        "    # Analyze image sizes and resolutions\n",
        "    img_sizes = []\n",
        "    for img_id in img_ids:\n",
        "        img_info = coco.loadImgs(img_id)[0]\n",
        "        img_sizes.append((img_info['width'], img_info['height']))\n",
        "\n",
        "    # Plot image size distribution\n",
        "    widths, heights = zip(*img_sizes)\n",
        "    plt.figure(figsize=(10, 5))\n",
        "    plt.hist(widths, bins=30, alpha=0.5, label='Widths')\n",
        "    plt.hist(heights, bins=30, alpha=0.5, label='Heights')\n",
        "    plt.xlabel('Size')\n",
        "    plt.ylabel('Frequency')\n",
        "    plt.legend()\n",
        "    plt.title('Image Size Distribution')\n",
        "    plt.show()\n",
        "\n",
        "    # Analyze number of annotations\n",
        "    ann_ids = coco.getAnnIds(catIds=cat_ids)\n",
        "    num_annotations = len(ann_ids)\n",
        "    print(f'Number of annotations: {num_annotations}')\n",
        "\n",
        "analyze_dataset(coco_train)\n"
      ]
    },
    {
      "cell_type": "code",
      "execution_count": 16,
      "metadata": {
        "colab": {
          "base_uri": "https://localhost:8080/",
          "height": 532
        },
        "id": "voQ-4ql-VZ_O",
        "outputId": "e9c8104f-6e71-4eea-80ef-290bad3e7ff5"
      },
      "outputs": [
        {
          "output_type": "stream",
          "name": "stdout",
          "text": [
            "Ultralytics 8.3.91 🚀 Python-3.11.11 torch-2.6.0+cu124 CUDA:0 (Tesla T4, 15095MiB)\n",
            "\u001b[34m\u001b[1mengine/trainer: \u001b[0mtask=detect, mode=train, model=yolov8x.pt, data=./datasets/coco/coco.yaml, epochs=10, time=None, patience=100, batch=16, imgsz=640, save=True, save_period=-1, cache=False, device=cuda, workers=8, project=None, name=train4, exist_ok=False, pretrained=True, optimizer=auto, verbose=True, seed=0, deterministic=True, single_cls=False, rect=False, cos_lr=False, close_mosaic=10, resume=False, amp=True, fraction=1.0, profile=False, freeze=None, multi_scale=False, overlap_mask=True, mask_ratio=4, dropout=0.0, val=True, split=val, save_json=False, save_hybrid=False, conf=None, iou=0.7, max_det=300, half=False, dnn=False, plots=True, source=None, vid_stride=1, stream_buffer=False, visualize=False, augment=False, agnostic_nms=False, classes=None, retina_masks=False, embed=None, show=False, save_frames=False, save_txt=False, save_conf=False, save_crop=False, show_labels=True, show_conf=True, show_boxes=True, line_width=None, format=torchscript, keras=False, optimize=False, int8=False, dynamic=False, simplify=True, opset=None, workspace=None, nms=False, lr0=0.01, lrf=0.01, momentum=0.937, weight_decay=0.0005, warmup_epochs=3.0, warmup_momentum=0.8, warmup_bias_lr=0.1, box=7.5, cls=0.5, dfl=1.5, pose=12.0, kobj=1.0, nbs=64, hsv_h=0.015, hsv_s=0.7, hsv_v=0.4, degrees=0.0, translate=0.1, scale=0.5, shear=0.0, perspective=0.0, flipud=0.0, fliplr=0.5, bgr=0.0, mosaic=1.0, mixup=0.0, copy_paste=0.0, copy_paste_mode=flip, auto_augment=randaugment, erasing=0.4, crop_fraction=1.0, cfg=None, tracker=botsort.yaml, save_dir=runs/detect/train4\n"
          ]
        },
        {
          "output_type": "error",
          "ename": "RuntimeError",
          "evalue": "Dataset 'datasets/coco/coco.yaml' error ❌ \nDataset 'datasets/coco/coco.yaml' images not found ⚠️, missing path '/content/datasets/datasets/coco/datasets/coco/images/val2017'\nNote dataset download directory is '/content/datasets'. You can update this in '/root/.config/Ultralytics/settings.json'",
          "traceback": [
            "\u001b[0;31m---------------------------------------------------------------------------\u001b[0m",
            "\u001b[0;31mFileNotFoundError\u001b[0m                         Traceback (most recent call last)",
            "\u001b[0;32m/usr/local/lib/python3.11/dist-packages/ultralytics/engine/trainer.py\u001b[0m in \u001b[0;36mget_dataset\u001b[0;34m(self)\u001b[0m\n\u001b[1;32m    573\u001b[0m             }:\n\u001b[0;32m--> 574\u001b[0;31m                 \u001b[0mdata\u001b[0m \u001b[0;34m=\u001b[0m \u001b[0mcheck_det_dataset\u001b[0m\u001b[0;34m(\u001b[0m\u001b[0mself\u001b[0m\u001b[0;34m.\u001b[0m\u001b[0margs\u001b[0m\u001b[0;34m.\u001b[0m\u001b[0mdata\u001b[0m\u001b[0;34m)\u001b[0m\u001b[0;34m\u001b[0m\u001b[0;34m\u001b[0m\u001b[0m\n\u001b[0m\u001b[1;32m    575\u001b[0m                 \u001b[0;32mif\u001b[0m \u001b[0;34m\"yaml_file\"\u001b[0m \u001b[0;32min\u001b[0m \u001b[0mdata\u001b[0m\u001b[0;34m:\u001b[0m\u001b[0;34m\u001b[0m\u001b[0;34m\u001b[0m\u001b[0m\n",
            "\u001b[0;32m/usr/local/lib/python3.11/dist-packages/ultralytics/data/utils.py\u001b[0m in \u001b[0;36mcheck_det_dataset\u001b[0;34m(dataset, autodownload)\u001b[0m\n\u001b[1;32m    369\u001b[0m                 \u001b[0mm\u001b[0m \u001b[0;34m+=\u001b[0m \u001b[0;34mf\"\\nNote dataset download directory is '{DATASETS_DIR}'. You can update this in '{SETTINGS_FILE}'\"\u001b[0m\u001b[0;34m\u001b[0m\u001b[0;34m\u001b[0m\u001b[0m\n\u001b[0;32m--> 370\u001b[0;31m                 \u001b[0;32mraise\u001b[0m \u001b[0mFileNotFoundError\u001b[0m\u001b[0;34m(\u001b[0m\u001b[0mm\u001b[0m\u001b[0;34m)\u001b[0m\u001b[0;34m\u001b[0m\u001b[0;34m\u001b[0m\u001b[0m\n\u001b[0m\u001b[1;32m    371\u001b[0m             \u001b[0mt\u001b[0m \u001b[0;34m=\u001b[0m \u001b[0mtime\u001b[0m\u001b[0;34m.\u001b[0m\u001b[0mtime\u001b[0m\u001b[0;34m(\u001b[0m\u001b[0;34m)\u001b[0m\u001b[0;34m\u001b[0m\u001b[0;34m\u001b[0m\u001b[0m\n",
            "\u001b[0;31mFileNotFoundError\u001b[0m: \nDataset 'datasets/coco/coco.yaml' images not found ⚠️, missing path '/content/datasets/datasets/coco/datasets/coco/images/val2017'\nNote dataset download directory is '/content/datasets'. You can update this in '/root/.config/Ultralytics/settings.json'",
            "\nThe above exception was the direct cause of the following exception:\n",
            "\u001b[0;31mRuntimeError\u001b[0m                              Traceback (most recent call last)",
            "\u001b[0;32m<ipython-input-16-93a23a80e9d3>\u001b[0m in \u001b[0;36m<cell line: 0>\u001b[0;34m()\u001b[0m\n\u001b[1;32m      5\u001b[0m \u001b[0;34m\u001b[0m\u001b[0m\n\u001b[1;32m      6\u001b[0m \u001b[0;31m# Train the model using YOLOv8 built-in training function\u001b[0m\u001b[0;34m\u001b[0m\u001b[0;34m\u001b[0m\u001b[0m\n\u001b[0;32m----> 7\u001b[0;31m \u001b[0mmodel\u001b[0m\u001b[0;34m.\u001b[0m\u001b[0mtrain\u001b[0m\u001b[0;34m(\u001b[0m\u001b[0mdata\u001b[0m\u001b[0;34m=\u001b[0m\u001b[0;34mf'{data_dir}/coco.yaml'\u001b[0m\u001b[0;34m,\u001b[0m \u001b[0mepochs\u001b[0m\u001b[0;34m=\u001b[0m\u001b[0;36m10\u001b[0m\u001b[0;34m,\u001b[0m \u001b[0mimgsz\u001b[0m\u001b[0;34m=\u001b[0m\u001b[0;36m640\u001b[0m\u001b[0;34m,\u001b[0m \u001b[0mbatch\u001b[0m\u001b[0;34m=\u001b[0m\u001b[0;36m16\u001b[0m\u001b[0;34m,\u001b[0m \u001b[0mdevice\u001b[0m\u001b[0;34m=\u001b[0m\u001b[0;34m'cuda'\u001b[0m\u001b[0;34m)\u001b[0m\u001b[0;34m\u001b[0m\u001b[0;34m\u001b[0m\u001b[0m\n\u001b[0m",
            "\u001b[0;32m/usr/local/lib/python3.11/dist-packages/ultralytics/engine/model.py\u001b[0m in \u001b[0;36mtrain\u001b[0;34m(self, trainer, **kwargs)\u001b[0m\n\u001b[1;32m    783\u001b[0m             \u001b[0margs\u001b[0m\u001b[0;34m[\u001b[0m\u001b[0;34m\"resume\"\u001b[0m\u001b[0;34m]\u001b[0m \u001b[0;34m=\u001b[0m \u001b[0mself\u001b[0m\u001b[0;34m.\u001b[0m\u001b[0mckpt_path\u001b[0m\u001b[0;34m\u001b[0m\u001b[0;34m\u001b[0m\u001b[0m\n\u001b[1;32m    784\u001b[0m \u001b[0;34m\u001b[0m\u001b[0m\n\u001b[0;32m--> 785\u001b[0;31m         \u001b[0mself\u001b[0m\u001b[0;34m.\u001b[0m\u001b[0mtrainer\u001b[0m \u001b[0;34m=\u001b[0m \u001b[0;34m(\u001b[0m\u001b[0mtrainer\u001b[0m \u001b[0;32mor\u001b[0m \u001b[0mself\u001b[0m\u001b[0;34m.\u001b[0m\u001b[0m_smart_load\u001b[0m\u001b[0;34m(\u001b[0m\u001b[0;34m\"trainer\"\u001b[0m\u001b[0;34m)\u001b[0m\u001b[0;34m)\u001b[0m\u001b[0;34m(\u001b[0m\u001b[0moverrides\u001b[0m\u001b[0;34m=\u001b[0m\u001b[0margs\u001b[0m\u001b[0;34m,\u001b[0m \u001b[0m_callbacks\u001b[0m\u001b[0;34m=\u001b[0m\u001b[0mself\u001b[0m\u001b[0;34m.\u001b[0m\u001b[0mcallbacks\u001b[0m\u001b[0;34m)\u001b[0m\u001b[0;34m\u001b[0m\u001b[0;34m\u001b[0m\u001b[0m\n\u001b[0m\u001b[1;32m    786\u001b[0m         \u001b[0;32mif\u001b[0m \u001b[0;32mnot\u001b[0m \u001b[0margs\u001b[0m\u001b[0;34m.\u001b[0m\u001b[0mget\u001b[0m\u001b[0;34m(\u001b[0m\u001b[0;34m\"resume\"\u001b[0m\u001b[0;34m)\u001b[0m\u001b[0;34m:\u001b[0m  \u001b[0;31m# manually set model only if not resuming\u001b[0m\u001b[0;34m\u001b[0m\u001b[0;34m\u001b[0m\u001b[0m\n\u001b[1;32m    787\u001b[0m             \u001b[0mself\u001b[0m\u001b[0;34m.\u001b[0m\u001b[0mtrainer\u001b[0m\u001b[0;34m.\u001b[0m\u001b[0mmodel\u001b[0m \u001b[0;34m=\u001b[0m \u001b[0mself\u001b[0m\u001b[0;34m.\u001b[0m\u001b[0mtrainer\u001b[0m\u001b[0;34m.\u001b[0m\u001b[0mget_model\u001b[0m\u001b[0;34m(\u001b[0m\u001b[0mweights\u001b[0m\u001b[0;34m=\u001b[0m\u001b[0mself\u001b[0m\u001b[0;34m.\u001b[0m\u001b[0mmodel\u001b[0m \u001b[0;32mif\u001b[0m \u001b[0mself\u001b[0m\u001b[0;34m.\u001b[0m\u001b[0mckpt\u001b[0m \u001b[0;32melse\u001b[0m \u001b[0;32mNone\u001b[0m\u001b[0;34m,\u001b[0m \u001b[0mcfg\u001b[0m\u001b[0;34m=\u001b[0m\u001b[0mself\u001b[0m\u001b[0;34m.\u001b[0m\u001b[0mmodel\u001b[0m\u001b[0;34m.\u001b[0m\u001b[0myaml\u001b[0m\u001b[0;34m)\u001b[0m\u001b[0;34m\u001b[0m\u001b[0;34m\u001b[0m\u001b[0m\n",
            "\u001b[0;32m/usr/local/lib/python3.11/dist-packages/ultralytics/engine/trainer.py\u001b[0m in \u001b[0;36m__init__\u001b[0;34m(self, cfg, overrides, _callbacks)\u001b[0m\n\u001b[1;32m    135\u001b[0m         \u001b[0mself\u001b[0m\u001b[0;34m.\u001b[0m\u001b[0mmodel\u001b[0m \u001b[0;34m=\u001b[0m \u001b[0mcheck_model_file_from_stem\u001b[0m\u001b[0;34m(\u001b[0m\u001b[0mself\u001b[0m\u001b[0;34m.\u001b[0m\u001b[0margs\u001b[0m\u001b[0;34m.\u001b[0m\u001b[0mmodel\u001b[0m\u001b[0;34m)\u001b[0m  \u001b[0;31m# add suffix, i.e. yolo11n -> yolo11n.pt\u001b[0m\u001b[0;34m\u001b[0m\u001b[0;34m\u001b[0m\u001b[0m\n\u001b[1;32m    136\u001b[0m         \u001b[0;32mwith\u001b[0m \u001b[0mtorch_distributed_zero_first\u001b[0m\u001b[0;34m(\u001b[0m\u001b[0mLOCAL_RANK\u001b[0m\u001b[0;34m)\u001b[0m\u001b[0;34m:\u001b[0m  \u001b[0;31m# avoid auto-downloading dataset multiple times\u001b[0m\u001b[0;34m\u001b[0m\u001b[0;34m\u001b[0m\u001b[0m\n\u001b[0;32m--> 137\u001b[0;31m             \u001b[0mself\u001b[0m\u001b[0;34m.\u001b[0m\u001b[0mtrainset\u001b[0m\u001b[0;34m,\u001b[0m \u001b[0mself\u001b[0m\u001b[0;34m.\u001b[0m\u001b[0mtestset\u001b[0m \u001b[0;34m=\u001b[0m \u001b[0mself\u001b[0m\u001b[0;34m.\u001b[0m\u001b[0mget_dataset\u001b[0m\u001b[0;34m(\u001b[0m\u001b[0;34m)\u001b[0m\u001b[0;34m\u001b[0m\u001b[0;34m\u001b[0m\u001b[0m\n\u001b[0m\u001b[1;32m    138\u001b[0m         \u001b[0mself\u001b[0m\u001b[0;34m.\u001b[0m\u001b[0mema\u001b[0m \u001b[0;34m=\u001b[0m \u001b[0;32mNone\u001b[0m\u001b[0;34m\u001b[0m\u001b[0;34m\u001b[0m\u001b[0m\n\u001b[1;32m    139\u001b[0m \u001b[0;34m\u001b[0m\u001b[0m\n",
            "\u001b[0;32m/usr/local/lib/python3.11/dist-packages/ultralytics/engine/trainer.py\u001b[0m in \u001b[0;36mget_dataset\u001b[0;34m(self)\u001b[0m\n\u001b[1;32m    576\u001b[0m                     \u001b[0mself\u001b[0m\u001b[0;34m.\u001b[0m\u001b[0margs\u001b[0m\u001b[0;34m.\u001b[0m\u001b[0mdata\u001b[0m \u001b[0;34m=\u001b[0m \u001b[0mdata\u001b[0m\u001b[0;34m[\u001b[0m\u001b[0;34m\"yaml_file\"\u001b[0m\u001b[0;34m]\u001b[0m  \u001b[0;31m# for validating 'yolo train data=url.zip' usage\u001b[0m\u001b[0;34m\u001b[0m\u001b[0;34m\u001b[0m\u001b[0m\n\u001b[1;32m    577\u001b[0m         \u001b[0;32mexcept\u001b[0m \u001b[0mException\u001b[0m \u001b[0;32mas\u001b[0m \u001b[0me\u001b[0m\u001b[0;34m:\u001b[0m\u001b[0;34m\u001b[0m\u001b[0;34m\u001b[0m\u001b[0m\n\u001b[0;32m--> 578\u001b[0;31m             \u001b[0;32mraise\u001b[0m \u001b[0mRuntimeError\u001b[0m\u001b[0;34m(\u001b[0m\u001b[0memojis\u001b[0m\u001b[0;34m(\u001b[0m\u001b[0;34mf\"Dataset '{clean_url(self.args.data)}' error ❌ {e}\"\u001b[0m\u001b[0;34m)\u001b[0m\u001b[0;34m)\u001b[0m \u001b[0;32mfrom\u001b[0m \u001b[0me\u001b[0m\u001b[0;34m\u001b[0m\u001b[0;34m\u001b[0m\u001b[0m\n\u001b[0m\u001b[1;32m    579\u001b[0m         \u001b[0mself\u001b[0m\u001b[0;34m.\u001b[0m\u001b[0mdata\u001b[0m \u001b[0;34m=\u001b[0m \u001b[0mdata\u001b[0m\u001b[0;34m\u001b[0m\u001b[0;34m\u001b[0m\u001b[0m\n\u001b[1;32m    580\u001b[0m         \u001b[0;32mif\u001b[0m \u001b[0mself\u001b[0m\u001b[0;34m.\u001b[0m\u001b[0margs\u001b[0m\u001b[0;34m.\u001b[0m\u001b[0msingle_cls\u001b[0m\u001b[0;34m:\u001b[0m\u001b[0;34m\u001b[0m\u001b[0;34m\u001b[0m\u001b[0m\n",
            "\u001b[0;31mRuntimeError\u001b[0m: Dataset 'datasets/coco/coco.yaml' error ❌ \nDataset 'datasets/coco/coco.yaml' images not found ⚠️, missing path '/content/datasets/datasets/coco/datasets/coco/images/val2017'\nNote dataset download directory is '/content/datasets'. You can update this in '/root/.config/Ultralytics/settings.json'"
          ]
        }
      ],
      "source": [
        "from ultralytics import YOLO\n",
        "\n",
        "# Load the pre-trained YOLOv8 model\n",
        "model = YOLO('yolov8x.pt').to('cuda')\n",
        "\n",
        "# Train the model using YOLOv8 built-in training function\n",
        "model.train(data=f'{data_dir}/coco.yaml', epochs=10, imgsz=640, batch=16, device='cuda')"
      ]
    },
    {
      "cell_type": "code",
      "execution_count": null,
      "metadata": {
        "id": "_f64GRMksITI"
      },
      "outputs": [],
      "source": [
        "## Improve on the reference\n",
        "# Evaluate the model on the validation set after training\n",
        "print(\"Evaluating model after training...\")\n",
        "model.eval()\n",
        "with torch.no_grad():\n",
        "    val_loss = 0.0\n",
        "    for images, targets in val_loader:\n",
        "        images = images.to(device)\n",
        "        outputs = model(images)\n",
        "        # Ensure outputs are in correct format\n",
        "        outputs = [{'boxes': output.boxes.xyxy, 'labels': output.boxes.cls} for output in outputs]\n",
        "        try:\n",
        "            loss = custom_loss_function(outputs, targets)\n",
        "            val_loss += loss.item()  # Correctly access the loss value\n",
        "        except Exception as e:\n",
        "            print(f\"Error calculating loss: {e}\")\n",
        "    print(f'Validation Loss (after training): {val_loss / len(val_loader):.4f}')\n"
      ]
    },
    {
      "cell_type": "code",
      "execution_count": null,
      "metadata": {
        "id": "mZ1Yg7j7P6Gj"
      },
      "outputs": [],
      "source": [
        "## Analysis of the Results\n",
        "\n",
        "# Accuracy\n",
        "from pycocotools.cocoeval import COCOeval\n",
        "\n",
        "def evaluate_model(model, data_loader, coco_gt, device):\n",
        "    model.eval()\n",
        "    results = []\n",
        "    with torch.no_grad():\n",
        "        for images, targets in data_loader:\n",
        "            images = images.to(device)\n",
        "            outputs = model(images)\n",
        "            for image_id, output in zip([t['image_id'] for t in targets], outputs):\n",
        "                boxes = output.boxes.xyxy.cpu().numpy()\n",
        "                scores = output.boxes.conf.cpu().numpy()\n",
        "                labels = output.boxes.cls.cpu().numpy()\n",
        "\n",
        "                for box, score, label in zip(boxes, scores, labels):\n",
        "                    result = {\n",
        "                        'image_id': image_id.item(),\n",
        "                        'category_id': int(label),\n",
        "                        'bbox': box.tolist(),\n",
        "                        'score': float(score)\n",
        "                    }\n",
        "                    results.append(result)\n",
        "\n",
        "    # Load results into COCO format and evaluate\n",
        "    coco_dt = coco_gt.loadRes(results)\n",
        "    coco_eval = COCOeval(coco_gt, coco_dt, 'bbox')\n",
        "    coco_eval.evaluate()\n",
        "    coco_eval.accumulate()\n",
        "    coco_eval.summarize()\n",
        "\n",
        "    return coco_eval.stats\n",
        "\n",
        "# Evaluate the model on the validation set\n",
        "coco_gt = coco_val\n",
        "val_stats = evaluate_model(model, val_loader, coco_gt, device)\n",
        "\n",
        "# Print mAP\n",
        "print(f\"Mean Average Precision (mAP) @[IoU=0.50:0.95 | area=all | maxDets=100]: {val_stats[0]:.4f}\")\n",
        "\n"
      ]
    },
    {
      "cell_type": "code",
      "execution_count": null,
      "metadata": {
        "id": "P9dyX_R3sTkt"
      },
      "outputs": [],
      "source": [
        "## Speed\n",
        "def measure_speed(model, data_loader, device):\n",
        "    model.eval()\n",
        "    start_time = time.time()\n",
        "    with torch.no_grad():\n",
        "        for images, _ in data_loader:\n",
        "            images = images.to(device)\n",
        "            outputs = model(images)\n",
        "    end_time = time.time()\n",
        "\n",
        "    total_time = end_time - start_time\n",
        "    avg_time_per_image = total_time / len(data_loader.dataset)\n",
        "    fps = 1 / avg_time_per_image\n",
        "\n",
        "    return avg_time_per_image, fps\n",
        "\n",
        "# Measure speed on the validation set\n",
        "avg_time_per_image, fps = measure_speed(model, val_loader, device)\n",
        "print(f'Average time per image: {avg_time_per_image:.4f}s, FPS: {fps:.2f}')\n"
      ]
    },
    {
      "cell_type": "code",
      "execution_count": null,
      "metadata": {
        "id": "6HQn2Q3VpZRc"
      },
      "outputs": [],
      "source": [
        "## Visualization of Results\n",
        "# Visualize the results on a video clip\n",
        "def visualize_results(video_path, model, device):\n",
        "    cap = cv2.VideoCapture(video_path)\n",
        "    out = cv2.VideoWriter('output.avi', cv2.VideoWriter_fourcc(*'XVID'), 20.0, (640, 480))\n",
        "\n",
        "    while cap.isOpened():\n",
        "        ret, frame = cap.read()\n",
        "        if not ret:\n",
        "            break\n",
        "\n",
        "        image = cv2.cvtColor(frame, cv2.COLOR_BGR2RGB)\n",
        "        image = transform(image).unsqueeze(0).to(device)\n",
        "        with torch.no_grad():\n",
        "            outputs = model(image)\n",
        "\n",
        "        for output in outputs:\n",
        "            boxes = output.boxes.xyxy.cpu().numpy()\n",
        "            labels = output.boxes.cls.cpu().numpy()\n",
        "            for box, label in zip(boxes, labels):\n",
        "                x1, y1, x2, y2 = map(int, box)\n",
        "                cv2.rectangle(frame, (x1, y1), (x2, y2), (0, 255, 0), 2)\n",
        "                cv2.putText(frame, str(int(label)), (x1, y1 - 10), cv2.FONT_HERSHEY_SIMPLEX, 0.9, (0, 255, 0), 2)\n",
        "\n",
        "        out.write(frame)\n",
        "\n",
        "    cap.release()\n",
        "    out.release()\n",
        "    cv2.destroyAllWindows()\n",
        "\n",
        "visualize_results('/path/to/video.mp4', model, device)\n",
        "\n",
        "# Convert the output video to GIF\n",
        "def video_to_gif(video_path, gif_path):\n",
        "    reader = imageio.get_reader(video_path)\n",
        "    fps = reader.get_meta_data()['fps']\n",
        "    writer = imageio.get_writer(gif_path, fps=fps)\n",
        "    for frames in reader:\n",
        "        writer.append_data(frames)\n",
        "    writer.close()\n",
        "\n",
        "video_to_gif('output.avi', 'output.gif')"
      ]
    }
  ],
  "metadata": {
    "accelerator": "GPU",
    "colab": {
      "gpuType": "T4",
      "provenance": []
    },
    "kernelspec": {
      "display_name": "Python 3",
      "name": "python3"
    },
    "language_info": {
      "name": "python"
    }
  },
  "nbformat": 4,
  "nbformat_minor": 0
}